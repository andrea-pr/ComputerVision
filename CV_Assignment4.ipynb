{
  "nbformat": 4,
  "nbformat_minor": 0,
  "metadata": {
    "accelerator": "GPU",
    "colab": {
      "name": "CV_Assignment4.ipynb",
      "provenance": [],
      "collapsed_sections": [],
      "include_colab_link": true
    },
    "kernelspec": {
      "display_name": "Python 3",
      "name": "python3"
    }
  },
  "cells": [
    {
      "cell_type": "markdown",
      "metadata": {
        "id": "view-in-github",
        "colab_type": "text"
      },
      "source": [
        "<a href=\"https://colab.research.google.com/github/andrea-pr/ComputerVision/blob/main/CV_Assignment4.ipynb\" target=\"_parent\"><img src=\"https://colab.research.google.com/assets/colab-badge.svg\" alt=\"Open In Colab\"/></a>"
      ]
    },
    {
      "cell_type": "code",
      "metadata": {
        "colab": {
          "base_uri": "https://localhost:8080/"
        },
        "id": "1GdqXNBHcuXS",
        "outputId": "5c64fcbc-8d21-43f7-efd1-ed8ebebd6cd7"
      },
      "source": [
        "!python --version"
      ],
      "execution_count": null,
      "outputs": [
        {
          "output_type": "stream",
          "text": [
            "Python 3.7.10\n"
          ],
          "name": "stdout"
        }
      ]
    },
    {
      "cell_type": "code",
      "metadata": {
        "colab": {
          "base_uri": "https://localhost:8080/"
        },
        "id": "FNKxhomjdFuS",
        "outputId": "7fefcf83-1aa5-423f-f9d2-70427a5b59b5"
      },
      "source": [
        " !pip install tensorflow"
      ],
      "execution_count": null,
      "outputs": [
        {
          "output_type": "stream",
          "text": [
            "Requirement already satisfied: tensorflow in /usr/local/lib/python3.7/dist-packages (2.4.1)\n",
            "Requirement already satisfied: numpy~=1.19.2 in /usr/local/lib/python3.7/dist-packages (from tensorflow) (1.19.5)\n",
            "Requirement already satisfied: flatbuffers~=1.12.0 in /usr/local/lib/python3.7/dist-packages (from tensorflow) (1.12)\n",
            "Requirement already satisfied: tensorflow-estimator<2.5.0,>=2.4.0 in /usr/local/lib/python3.7/dist-packages (from tensorflow) (2.4.0)\n",
            "Requirement already satisfied: six~=1.15.0 in /usr/local/lib/python3.7/dist-packages (from tensorflow) (1.15.0)\n",
            "Requirement already satisfied: h5py~=2.10.0 in /usr/local/lib/python3.7/dist-packages (from tensorflow) (2.10.0)\n",
            "Requirement already satisfied: keras-preprocessing~=1.1.2 in /usr/local/lib/python3.7/dist-packages (from tensorflow) (1.1.2)\n",
            "Requirement already satisfied: google-pasta~=0.2 in /usr/local/lib/python3.7/dist-packages (from tensorflow) (0.2.0)\n",
            "Requirement already satisfied: astunparse~=1.6.3 in /usr/local/lib/python3.7/dist-packages (from tensorflow) (1.6.3)\n",
            "Requirement already satisfied: typing-extensions~=3.7.4 in /usr/local/lib/python3.7/dist-packages (from tensorflow) (3.7.4.3)\n",
            "Requirement already satisfied: protobuf>=3.9.2 in /usr/local/lib/python3.7/dist-packages (from tensorflow) (3.12.4)\n",
            "Requirement already satisfied: gast==0.3.3 in /usr/local/lib/python3.7/dist-packages (from tensorflow) (0.3.3)\n",
            "Requirement already satisfied: tensorboard~=2.4 in /usr/local/lib/python3.7/dist-packages (from tensorflow) (2.4.1)\n",
            "Requirement already satisfied: opt-einsum~=3.3.0 in /usr/local/lib/python3.7/dist-packages (from tensorflow) (3.3.0)\n",
            "Requirement already satisfied: wheel~=0.35 in /usr/local/lib/python3.7/dist-packages (from tensorflow) (0.36.2)\n",
            "Requirement already satisfied: grpcio~=1.32.0 in /usr/local/lib/python3.7/dist-packages (from tensorflow) (1.32.0)\n",
            "Requirement already satisfied: absl-py~=0.10 in /usr/local/lib/python3.7/dist-packages (from tensorflow) (0.10.0)\n",
            "Requirement already satisfied: termcolor~=1.1.0 in /usr/local/lib/python3.7/dist-packages (from tensorflow) (1.1.0)\n",
            "Requirement already satisfied: wrapt~=1.12.1 in /usr/local/lib/python3.7/dist-packages (from tensorflow) (1.12.1)\n",
            "Requirement already satisfied: setuptools in /usr/local/lib/python3.7/dist-packages (from protobuf>=3.9.2->tensorflow) (54.1.2)\n",
            "Requirement already satisfied: google-auth-oauthlib<0.5,>=0.4.1 in /usr/local/lib/python3.7/dist-packages (from tensorboard~=2.4->tensorflow) (0.4.3)\n",
            "Requirement already satisfied: tensorboard-plugin-wit>=1.6.0 in /usr/local/lib/python3.7/dist-packages (from tensorboard~=2.4->tensorflow) (1.8.0)\n",
            "Requirement already satisfied: google-auth<2,>=1.6.3 in /usr/local/lib/python3.7/dist-packages (from tensorboard~=2.4->tensorflow) (1.27.1)\n",
            "Requirement already satisfied: werkzeug>=0.11.15 in /usr/local/lib/python3.7/dist-packages (from tensorboard~=2.4->tensorflow) (1.0.1)\n",
            "Requirement already satisfied: requests<3,>=2.21.0 in /usr/local/lib/python3.7/dist-packages (from tensorboard~=2.4->tensorflow) (2.23.0)\n",
            "Requirement already satisfied: markdown>=2.6.8 in /usr/local/lib/python3.7/dist-packages (from tensorboard~=2.4->tensorflow) (3.3.4)\n",
            "Requirement already satisfied: requests-oauthlib>=0.7.0 in /usr/local/lib/python3.7/dist-packages (from google-auth-oauthlib<0.5,>=0.4.1->tensorboard~=2.4->tensorflow) (1.3.0)\n",
            "Requirement already satisfied: rsa<5,>=3.1.4; python_version >= \"3.6\" in /usr/local/lib/python3.7/dist-packages (from google-auth<2,>=1.6.3->tensorboard~=2.4->tensorflow) (4.7.2)\n",
            "Requirement already satisfied: cachetools<5.0,>=2.0.0 in /usr/local/lib/python3.7/dist-packages (from google-auth<2,>=1.6.3->tensorboard~=2.4->tensorflow) (4.2.1)\n",
            "Requirement already satisfied: pyasn1-modules>=0.2.1 in /usr/local/lib/python3.7/dist-packages (from google-auth<2,>=1.6.3->tensorboard~=2.4->tensorflow) (0.2.8)\n",
            "Requirement already satisfied: urllib3!=1.25.0,!=1.25.1,<1.26,>=1.21.1 in /usr/local/lib/python3.7/dist-packages (from requests<3,>=2.21.0->tensorboard~=2.4->tensorflow) (1.24.3)\n",
            "Requirement already satisfied: idna<3,>=2.5 in /usr/local/lib/python3.7/dist-packages (from requests<3,>=2.21.0->tensorboard~=2.4->tensorflow) (2.10)\n",
            "Requirement already satisfied: certifi>=2017.4.17 in /usr/local/lib/python3.7/dist-packages (from requests<3,>=2.21.0->tensorboard~=2.4->tensorflow) (2020.12.5)\n",
            "Requirement already satisfied: chardet<4,>=3.0.2 in /usr/local/lib/python3.7/dist-packages (from requests<3,>=2.21.0->tensorboard~=2.4->tensorflow) (3.0.4)\n",
            "Requirement already satisfied: importlib-metadata; python_version < \"3.8\" in /usr/local/lib/python3.7/dist-packages (from markdown>=2.6.8->tensorboard~=2.4->tensorflow) (3.7.2)\n",
            "Requirement already satisfied: oauthlib>=3.0.0 in /usr/local/lib/python3.7/dist-packages (from requests-oauthlib>=0.7.0->google-auth-oauthlib<0.5,>=0.4.1->tensorboard~=2.4->tensorflow) (3.1.0)\n",
            "Requirement already satisfied: pyasn1>=0.1.3 in /usr/local/lib/python3.7/dist-packages (from rsa<5,>=3.1.4; python_version >= \"3.6\"->google-auth<2,>=1.6.3->tensorboard~=2.4->tensorflow) (0.4.8)\n",
            "Requirement already satisfied: zipp>=0.5 in /usr/local/lib/python3.7/dist-packages (from importlib-metadata; python_version < \"3.8\"->markdown>=2.6.8->tensorboard~=2.4->tensorflow) (3.4.1)\n"
          ],
          "name": "stdout"
        }
      ]
    },
    {
      "cell_type": "code",
      "metadata": {
        "id": "FX_G7Qq96Jm_"
      },
      "source": [
        "import tensorflow as tf\n",
        "from tensorflow.keras import datasets, layers, models\n",
        "import matplotlib.pyplot as plt\n",
        "import numpy as np"
      ],
      "execution_count": null,
      "outputs": []
    },
    {
      "cell_type": "code",
      "metadata": {
        "colab": {
          "base_uri": "https://localhost:8080/"
        },
        "id": "f-Ug7dK1zh4X",
        "outputId": "332db052-86d9-4684-93c9-59d7cb8cc028"
      },
      "source": [
        "#Enable GPU \n",
        "device_name = tf.test.gpu_device_name()\n",
        "if device_name != '/device:GPU:0':\n",
        "  raise SystemError('GPU device not found')\n",
        "print('Found GPU at: {}'.format(device_name))"
      ],
      "execution_count": null,
      "outputs": [
        {
          "output_type": "stream",
          "text": [
            "Found GPU at: /device:GPU:0\n"
          ],
          "name": "stdout"
        }
      ]
    },
    {
      "cell_type": "markdown",
      "metadata": {
        "id": "sPZHlfG2wd9U"
      },
      "source": [
        "Load Dataset"
      ]
    },
    {
      "cell_type": "code",
      "metadata": {
        "id": "mWTJzhFAh-TX"
      },
      "source": [
        "from keras.datasets import fashion_mnist"
      ],
      "execution_count": null,
      "outputs": []
    },
    {
      "cell_type": "code",
      "metadata": {
        "id": "y1YLpT1F6IJZ",
        "colab": {
          "base_uri": "https://localhost:8080/"
        },
        "outputId": "57ebeacd-84c2-4a92-c7bd-f3af04c15e9c"
      },
      "source": [
        "(x_train_original, y_train_original), (x_test, y_test) = fashion_mnist.load_data()"
      ],
      "execution_count": null,
      "outputs": [
        {
          "output_type": "stream",
          "text": [
            "Downloading data from https://storage.googleapis.com/tensorflow/tf-keras-datasets/train-labels-idx1-ubyte.gz\n",
            "32768/29515 [=================================] - 0s 0us/step\n",
            "Downloading data from https://storage.googleapis.com/tensorflow/tf-keras-datasets/train-images-idx3-ubyte.gz\n",
            "26427392/26421880 [==============================] - 0s 0us/step\n",
            "Downloading data from https://storage.googleapis.com/tensorflow/tf-keras-datasets/t10k-labels-idx1-ubyte.gz\n",
            "8192/5148 [===============================================] - 0s 0us/step\n",
            "Downloading data from https://storage.googleapis.com/tensorflow/tf-keras-datasets/t10k-images-idx3-ubyte.gz\n",
            "4423680/4422102 [==============================] - 0s 0us/step\n"
          ],
          "name": "stdout"
        }
      ]
    },
    {
      "cell_type": "code",
      "metadata": {
        "colab": {
          "base_uri": "https://localhost:8080/"
        },
        "id": "bpNnTTuKB8ov",
        "outputId": "727ed1e3-66ee-4721-9ce3-39e199d15be0"
      },
      "source": [
        "type(y_train_original)"
      ],
      "execution_count": null,
      "outputs": [
        {
          "output_type": "execute_result",
          "data": {
            "text/plain": [
              "numpy.ndarray"
            ]
          },
          "metadata": {
            "tags": []
          },
          "execution_count": 8
        }
      ]
    },
    {
      "cell_type": "code",
      "metadata": {
        "colab": {
          "base_uri": "https://localhost:8080/"
        },
        "id": "uz8sIAJSlFiW",
        "outputId": "738d57ed-c97c-4f79-8533-057ee8217fd9"
      },
      "source": [
        "type(x_train_original)"
      ],
      "execution_count": null,
      "outputs": [
        {
          "output_type": "execute_result",
          "data": {
            "text/plain": [
              "numpy.ndarray"
            ]
          },
          "metadata": {
            "tags": []
          },
          "execution_count": 6
        }
      ]
    },
    {
      "cell_type": "code",
      "metadata": {
        "colab": {
          "base_uri": "https://localhost:8080/"
        },
        "id": "5GVCaOZalJkq",
        "outputId": "0438dacf-b63d-4c2f-ec5b-b1ae1fb11295"
      },
      "source": [
        "x_train_original.shape"
      ],
      "execution_count": null,
      "outputs": [
        {
          "output_type": "execute_result",
          "data": {
            "text/plain": [
              "(60000, 28, 28)"
            ]
          },
          "metadata": {
            "tags": []
          },
          "execution_count": 7
        }
      ]
    },
    {
      "cell_type": "code",
      "metadata": {
        "colab": {
          "base_uri": "https://localhost:8080/"
        },
        "id": "q5vTdNbq650x",
        "outputId": "2aa5255a-4289-4815-bdf6-265ff8baeb32"
      },
      "source": [
        "print('Training image size:', x_train_original[0].shape)\n",
        "print('Training size:', len(x_train_original))\n",
        "print('Number of classes:', len(np.unique(y_train_original)))\n",
        "print('Test image size:', x_test[0].shape)\n",
        "print('Test size:', len(x_test))"
      ],
      "execution_count": null,
      "outputs": [
        {
          "output_type": "stream",
          "text": [
            "Training image size: (28, 28)\n",
            "Training size: 60000\n",
            "Number of classes: 10\n",
            "Test image size: (28, 28)\n",
            "Test size: 10000\n"
          ],
          "name": "stdout"
        }
      ]
    },
    {
      "cell_type": "code",
      "metadata": {
        "colab": {
          "base_uri": "https://localhost:8080/"
        },
        "id": "w-jQTNFxkJIP",
        "outputId": "12a36014-9419-468a-ddb3-530f5b31ad2e"
      },
      "source": [
        "#No class imbalance present in training set\n",
        "import collections\n",
        "counter_train=collections.Counter(y_train_original)\n",
        "print(counter_train)\n",
        "counter_test=collections.Counter(y_test)\n",
        "print(counter_test)"
      ],
      "execution_count": null,
      "outputs": [
        {
          "output_type": "stream",
          "text": [
            "Counter({9: 6000, 0: 6000, 3: 6000, 2: 6000, 7: 6000, 5: 6000, 1: 6000, 6: 6000, 4: 6000, 8: 6000})\n",
            "Counter({9: 1000, 2: 1000, 1: 1000, 6: 1000, 4: 1000, 5: 1000, 7: 1000, 3: 1000, 8: 1000, 0: 1000})\n"
          ],
          "name": "stdout"
        }
      ]
    },
    {
      "cell_type": "code",
      "metadata": {
        "colab": {
          "base_uri": "https://localhost:8080/",
          "height": 284
        },
        "id": "lOdl7YRdeo8c",
        "outputId": "f0cad40b-f0a1-40c6-a54a-47a947b12479"
      },
      "source": [
        "print(\"Image:\" , plt.imshow(x_train_original[0], cmap = plt.cm.binary), \"Label:\", y_train_original[0])"
      ],
      "execution_count": null,
      "outputs": [
        {
          "output_type": "stream",
          "text": [
            "Image: AxesImage(54,36;334.8x217.44) Label: 9\n"
          ],
          "name": "stdout"
        },
        {
          "output_type": "display_data",
          "data": {
            "image/png": "[encoded data removed]",
            "text/plain": [
              "<Figure size 432x288 with 1 Axes>"
            ]
          },
          "metadata": {
            "tags": [],
            "needs_background": "light"
          }
        }
      ]
    },
    {
      "cell_type": "code",
      "metadata": {
        "colab": {
          "base_uri": "https://localhost:8080/",
          "height": 284
        },
        "id": "FVYJiUAkf-qe",
        "outputId": "0870e9c0-1595-4efb-a20a-60682f3fea67"
      },
      "source": [
        "print(\"Image:\" , plt.imshow(x_train_original[1], cmap = plt.cm.binary), \"Label:\", y_train_original[1])"
      ],
      "execution_count": null,
      "outputs": [
        {
          "output_type": "stream",
          "text": [
            "Image: AxesImage(54,36;334.8x217.44) Label: 0\n"
          ],
          "name": "stdout"
        },
        {
          "output_type": "display_data",
          "data": {
            "image/png": "[encoded data removed]",
            "text/plain": [
              "<Figure size 432x288 with 1 Axes>"
            ]
          },
          "metadata": {
            "tags": [],
            "needs_background": "light"
          }
        }
      ]
    },
    {
      "cell_type": "code",
      "metadata": {
        "id": "pGmypK1ejoIC"
      },
      "source": [
        "#Get validation set with same class split as training set\n",
        "from sklearn.model_selection import train_test_split\n",
        "x_train, x_validation, y_train, y_validation = train_test_split(x_train_original,y_train_original,stratify=y_train_original,test_size=1/6) # before model building"
      ],
      "execution_count": null,
      "outputs": []
    },
    {
      "cell_type": "code",
      "metadata": {
        "colab": {
          "base_uri": "https://localhost:8080/"
        },
        "id": "Z9IZys7jqoSU",
        "outputId": "c8339b81-5e66-487a-ca7f-b023b620b2d3"
      },
      "source": [
        "print('Validation set size', len(y_validation))\n",
        "counter_val=collections.Counter(y_validation)\n",
        "print(counter_val) #Same class distribution"
      ],
      "execution_count": null,
      "outputs": [
        {
          "output_type": "stream",
          "text": [
            "Validation set size 10000\n",
            "Counter({9: 1000, 7: 1000, 3: 1000, 8: 1000, 2: 1000, 0: 1000, 1: 1000, 5: 1000, 6: 1000, 4: 1000})\n"
          ],
          "name": "stdout"
        }
      ]
    },
    {
      "cell_type": "code",
      "metadata": {
        "id": "2RnyHUrf6d20"
      },
      "source": [
        "x_train, x_test, x_validation, x_train_original =  x_train / 255.0, x_test / 255.0, x_validation/255, x_train_original/255"
      ],
      "execution_count": null,
      "outputs": []
    },
    {
      "cell_type": "code",
      "metadata": {
        "id": "mpdyi-Ou_hFR"
      },
      "source": [
        "#reshape data to fit model\n",
        "x_train = x_train.reshape(x_train.shape[0],28,28,1)\n",
        "x_train_original = x_train_original.reshape(x_train_original.shape[0],28,28,1)\n",
        "x_test = x_test.reshape(x_test.shape[0],28,28,1)\n",
        "x_validation = x_validation.reshape(x_validation.shape[0],28,28,1)"
      ],
      "execution_count": null,
      "outputs": []
    },
    {
      "cell_type": "code",
      "metadata": {
        "colab": {
          "base_uri": "https://localhost:8080/"
        },
        "id": "rbhSueSKF3Ta",
        "outputId": "3a1d07f3-a50c-42fd-8b87-f911b52115b3"
      },
      "source": [
        "x_train.shape"
      ],
      "execution_count": null,
      "outputs": [
        {
          "output_type": "execute_result",
          "data": {
            "text/plain": [
              "(50000, 28, 28, 1)"
            ]
          },
          "metadata": {
            "tags": []
          },
          "execution_count": 7
        }
      ]
    },
    {
      "cell_type": "code",
      "metadata": {
        "id": "8o-iW_rXF4Pp"
      },
      "source": [
        ""
      ],
      "execution_count": null,
      "outputs": []
    },
    {
      "cell_type": "markdown",
      "metadata": {
        "id": "TblPvx1Nwj2E"
      },
      "source": [
        "Model 1: Base Model"
      ]
    },
    {
      "cell_type": "code",
      "metadata": {
        "id": "X07xnMvNxH_a"
      },
      "source": [
        "from tensorflow.keras.models import Sequential\n",
        "from tensorflow.keras.layers import BatchNormalization, Conv2D, MaxPooling2D, AveragePooling2D, Flatten, Dropout, Dense, Activation\n",
        "from tensorflow.keras import backend as keras\n",
        "from keras.callbacks import EarlyStopping"
      ],
      "execution_count": null,
      "outputs": []
    },
    {
      "cell_type": "code",
      "metadata": {
        "id": "R1Qseq-2ZPXc"
      },
      "source": [
        "NUM_EPOCHS = 15\n",
        "BATCH_SIZE = 32"
      ],
      "execution_count": null,
      "outputs": []
    },
    {
      "cell_type": "code",
      "metadata": {
        "id": "DCJhJEwWwmsF"
      },
      "source": [
        "#create model\n",
        "model_1 = Sequential([\n",
        "  (Conv2D(32, padding = 'same', kernel_size=3, activation=\"relu\", input_shape=(28,28,1))),\n",
        "  (MaxPooling2D(pool_size=(2, 2))),\n",
        "  (Conv2D(64, padding = 'same', kernel_size=3, activation=\"relu\")),\n",
        "  (MaxPooling2D(pool_size=(2, 2))),\n",
        "  (Conv2D(128, padding = 'same', kernel_size=3, activation=\"relu\")),\n",
        "  (MaxPooling2D(pool_size=(2, 2))),\n",
        "  (Flatten()),\n",
        "  (Dense(128, activation='relu')),\n",
        "  (Dense(10, activation=\"softmax\"))]\n",
        ")\n"
      ],
      "execution_count": null,
      "outputs": []
    },
    {
      "cell_type": "code",
      "metadata": {
        "colab": {
          "base_uri": "https://localhost:8080/"
        },
        "id": "jVKcvmSXFK8Z",
        "outputId": "8a43f216-bf88-4de8-802b-1e8db651f925"
      },
      "source": [
        "model_1.summary()"
      ],
      "execution_count": null,
      "outputs": [
        {
          "output_type": "stream",
          "text": [
            "Model: \"sequential_6\"\n",
            "_________________________________________________________________\n",
            "Layer (type)                 Output Shape              Param #   \n",
            "=================================================================\n",
            "conv2d_18 (Conv2D)           (None, 28, 28, 32)        320       \n",
            "_________________________________________________________________\n",
            "max_pooling2d_12 (MaxPooling (None, 14, 14, 32)        0         \n",
            "_________________________________________________________________\n",
            "conv2d_19 (Conv2D)           (None, 14, 14, 64)        18496     \n",
            "_________________________________________________________________\n",
            "max_pooling2d_13 (MaxPooling (None, 7, 7, 64)          0         \n",
            "_________________________________________________________________\n",
            "conv2d_20 (Conv2D)           (None, 7, 7, 128)         73856     \n",
            "_________________________________________________________________\n",
            "max_pooling2d_14 (MaxPooling (None, 3, 3, 128)         0         \n",
            "_________________________________________________________________\n",
            "flatten_6 (Flatten)          (None, 1152)              0         \n",
            "_________________________________________________________________\n",
            "dense_12 (Dense)             (None, 128)               147584    \n",
            "_________________________________________________________________\n",
            "dense_13 (Dense)             (None, 10)                1290      \n",
            "=================================================================\n",
            "Total params: 241,546\n",
            "Trainable params: 241,546\n",
            "Non-trainable params: 0\n",
            "_________________________________________________________________\n"
          ],
          "name": "stdout"
        }
      ]
    },
    {
      "cell_type": "code",
      "metadata": {
        "id": "JnVJNftZwuJw"
      },
      "source": [
        "model_1.compile(loss=tf.keras.losses.sparse_categorical_crossentropy,\n",
        "              optimizer=tf.keras.optimizers.Adam(),\n",
        "              metrics=['accuracy'])"
      ],
      "execution_count": null,
      "outputs": []
    },
    {
      "cell_type": "code",
      "metadata": {
        "colab": {
          "base_uri": "https://localhost:8080/"
        },
        "id": "zxRCrG4j3yJ8",
        "outputId": "d75b6eda-02b8-4375-eafb-d86705d7c565"
      },
      "source": [
        "history_model1 = model_1.fit(x=x_train, y=y_train,\n",
        "\tvalidation_data=(x_validation, y_validation),\n",
        "\tbatch_size=BATCH_SIZE, epochs=NUM_EPOCHS)"
      ],
      "execution_count": null,
      "outputs": [
        {
          "output_type": "stream",
          "text": [
            "Epoch 1/15\n",
            "1563/1563 [==============================] - 6s 4ms/step - loss: 0.6408 - accuracy: 0.7659 - val_loss: 0.3382 - val_accuracy: 0.8726\n",
            "Epoch 2/15\n",
            "1563/1563 [==============================] - 5s 4ms/step - loss: 0.2904 - accuracy: 0.8910 - val_loss: 0.2704 - val_accuracy: 0.9018\n",
            "Epoch 3/15\n",
            "1563/1563 [==============================] - 5s 3ms/step - loss: 0.2348 - accuracy: 0.9124 - val_loss: 0.2562 - val_accuracy: 0.9059\n",
            "Epoch 4/15\n",
            "1563/1563 [==============================] - 5s 3ms/step - loss: 0.2073 - accuracy: 0.9220 - val_loss: 0.2669 - val_accuracy: 0.9059\n",
            "Epoch 5/15\n",
            "1563/1563 [==============================] - 6s 4ms/step - loss: 0.1750 - accuracy: 0.9352 - val_loss: 0.2470 - val_accuracy: 0.9108\n",
            "Epoch 6/15\n",
            "1563/1563 [==============================] - 6s 4ms/step - loss: 0.1559 - accuracy: 0.9419 - val_loss: 0.2363 - val_accuracy: 0.9178\n",
            "Epoch 7/15\n",
            "1563/1563 [==============================] - 6s 4ms/step - loss: 0.1355 - accuracy: 0.9510 - val_loss: 0.2456 - val_accuracy: 0.9181\n",
            "Epoch 8/15\n",
            "1563/1563 [==============================] - 5s 4ms/step - loss: 0.1149 - accuracy: 0.9569 - val_loss: 0.2681 - val_accuracy: 0.9159\n",
            "Epoch 9/15\n",
            "1563/1563 [==============================] - 5s 4ms/step - loss: 0.0952 - accuracy: 0.9656 - val_loss: 0.2793 - val_accuracy: 0.9113\n",
            "Epoch 10/15\n",
            "1563/1563 [==============================] - 6s 4ms/step - loss: 0.0836 - accuracy: 0.9691 - val_loss: 0.2926 - val_accuracy: 0.9174\n",
            "Epoch 11/15\n",
            "1563/1563 [==============================] - 6s 4ms/step - loss: 0.0695 - accuracy: 0.9737 - val_loss: 0.3098 - val_accuracy: 0.9149\n",
            "Epoch 12/15\n",
            "1563/1563 [==============================] - 6s 4ms/step - loss: 0.0604 - accuracy: 0.9773 - val_loss: 0.3413 - val_accuracy: 0.9143\n",
            "Epoch 13/15\n",
            "1563/1563 [==============================] - 6s 4ms/step - loss: 0.0547 - accuracy: 0.9788 - val_loss: 0.4212 - val_accuracy: 0.9136\n",
            "Epoch 14/15\n",
            "1563/1563 [==============================] - 6s 4ms/step - loss: 0.0519 - accuracy: 0.9802 - val_loss: 0.3832 - val_accuracy: 0.9132\n",
            "Epoch 15/15\n",
            "1563/1563 [==============================] - 6s 4ms/step - loss: 0.0405 - accuracy: 0.9850 - val_loss: 0.4286 - val_accuracy: 0.9124\n"
          ],
          "name": "stdout"
        }
      ]
    },
    {
      "cell_type": "code",
      "metadata": {
        "id": "OQct8als348a"
      },
      "source": [
        "def print_loss_graph (model): \n",
        "  plt.plot(model.history['loss'], label='train_loss')\n",
        "  plt.plot(model.history['val_loss'], label = 'val_loss')\n",
        "  plt.xlabel('Epoch')\n",
        "  plt.ylabel('Loss')\n",
        "  plt.legend(loc='lower right')\n",
        "  plt.title('Loss per Epoch')\n",
        "  return plt.show()"
      ],
      "execution_count": null,
      "outputs": []
    },
    {
      "cell_type": "code",
      "metadata": {
        "id": "dkbrLDffNQ_A"
      },
      "source": [
        "def print_loss_pair_graph (model1, model2, m1label, m2label): \n",
        "  plt.plot(model1.history['loss'], label= m1label+'_loss')\n",
        "  plt.plot(model1.history['val_loss'], label = m1label+'_val_loss')\n",
        "  plt.plot(model2.history['loss'], label=m2label+'_loss')\n",
        "  plt.plot(model2.history['val_loss'], label = m2label+'_val_loss')\n",
        "  plt.xlabel('Epoch')\n",
        "  plt.ylabel('Loss')\n",
        "  plt.legend(loc='lower right')\n",
        "  plt.title('Loss per Epoch')\n",
        "  return plt.show()"
      ],
      "execution_count": null,
      "outputs": []
    },
    {
      "cell_type": "code",
      "metadata": {
        "colab": {
          "base_uri": "https://localhost:8080/",
          "height": 295
        },
        "id": "O9xvt_KwLiZW",
        "outputId": "5e7746c2-abe1-42dd-91fe-90806052421c"
      },
      "source": [
        "print_loss_graph(history_model1)"
      ],
      "execution_count": null,
      "outputs": [
        {
          "output_type": "display_data",
          "data": {
            "image/png": "[encoded data removed]",
            "text/plain": [
              "<Figure size 432x288 with 1 Axes>"
            ]
          },
          "metadata": {
            "tags": [],
            "needs_background": "light"
          }
        }
      ]
    },
    {
      "cell_type": "code",
      "metadata": {
        "id": "jvHt7eBkbfd7"
      },
      "source": [
        "model_1.save('model1_weights.h', save_format='h5')"
      ],
      "execution_count": null,
      "outputs": []
    },
    {
      "cell_type": "markdown",
      "metadata": {
        "id": "4zsdsM816uuo"
      },
      "source": [
        "Model 2: Add BatchNormalization"
      ]
    },
    {
      "cell_type": "code",
      "metadata": {
        "id": "SgaXM9f37Vlc"
      },
      "source": [
        "#create model\n",
        "model_2 = Sequential()\n",
        "#add model layers\n",
        "model_2.add(Conv2D(32, padding = 'same', kernel_size=3, activation='relu', input_shape=(28,28,1)))\n",
        "model_2.add(Conv2D(64, padding = 'same', kernel_size=3, activation='relu'))\n",
        "model_2.add(MaxPooling2D(pool_size=(2, 2)))\n",
        "model_2.add(Conv2D(128, padding = 'same', kernel_size=3, activation='relu'))\n",
        "model_2.add(BatchNormalization())\n",
        "model_2.add(MaxPooling2D(pool_size=(2, 2)))\n",
        "model_2.add(Flatten())\n",
        "model_2.add(Dense(128, activation='relu'))\n",
        "model_2.add(Dense(10, activation=\"softmax\"))\n"
      ],
      "execution_count": null,
      "outputs": []
    },
    {
      "cell_type": "code",
      "metadata": {
        "id": "w_DHGWZX7oey",
        "colab": {
          "base_uri": "https://localhost:8080/"
        },
        "outputId": "761fcf21-e3aa-4004-fe4a-ef74e05d77f4"
      },
      "source": [
        "model_2.summary()"
      ],
      "execution_count": null,
      "outputs": [
        {
          "output_type": "stream",
          "text": [
            "Model: \"sequential_7\"\n",
            "_________________________________________________________________\n",
            "Layer (type)                 Output Shape              Param #   \n",
            "=================================================================\n",
            "conv2d_21 (Conv2D)           (None, 28, 28, 32)        320       \n",
            "_________________________________________________________________\n",
            "conv2d_22 (Conv2D)           (None, 28, 28, 64)        18496     \n",
            "_________________________________________________________________\n",
            "batch_normalization_4 (Batch (None, 28, 28, 64)        256       \n",
            "_________________________________________________________________\n",
            "max_pooling2d_15 (MaxPooling (None, 14, 14, 64)        0         \n",
            "_________________________________________________________________\n",
            "conv2d_23 (Conv2D)           (None, 14, 14, 128)       73856     \n",
            "_________________________________________________________________\n",
            "batch_normalization_5 (Batch (None, 14, 14, 128)       512       \n",
            "_________________________________________________________________\n",
            "max_pooling2d_16 (MaxPooling (None, 7, 7, 128)         0         \n",
            "_________________________________________________________________\n",
            "flatten_7 (Flatten)          (None, 6272)              0         \n",
            "_________________________________________________________________\n",
            "dense_14 (Dense)             (None, 128)               802944    \n",
            "_________________________________________________________________\n",
            "dense_15 (Dense)             (None, 10)                1290      \n",
            "=================================================================\n",
            "Total params: 897,674\n",
            "Trainable params: 897,290\n",
            "Non-trainable params: 384\n",
            "_________________________________________________________________\n"
          ],
          "name": "stdout"
        }
      ]
    },
    {
      "cell_type": "code",
      "metadata": {
        "id": "ZcApkzn87r0D"
      },
      "source": [
        "model_2.compile(loss=tf.keras.losses.sparse_categorical_crossentropy,\n",
        "              optimizer=tf.keras.optimizers.Adam(),\n",
        "              metrics=['accuracy'])"
      ],
      "execution_count": null,
      "outputs": []
    },
    {
      "cell_type": "code",
      "metadata": {
        "colab": {
          "base_uri": "https://localhost:8080/"
        },
        "id": "I7rbXlC77zJO",
        "outputId": "3891f218-5b2d-45d2-89f3-f5fbd937f681"
      },
      "source": [
        "history_model2 = model_2.fit(x=x_train, y=y_train,\n",
        "\tvalidation_data=(x_validation, y_validation),\n",
        "\tbatch_size=BATCH_SIZE, epochs=NUM_EPOCHS)"
      ],
      "execution_count": null,
      "outputs": [
        {
          "output_type": "stream",
          "text": [
            "Epoch 1/15\n",
            "1563/1563 [==============================] - 9s 5ms/step - loss: 0.5752 - accuracy: 0.8213 - val_loss: 0.3510 - val_accuracy: 0.8739\n",
            "Epoch 2/15\n",
            "1563/1563 [==============================] - 8s 5ms/step - loss: 0.2514 - accuracy: 0.9078 - val_loss: 0.2754 - val_accuracy: 0.9047\n",
            "Epoch 3/15\n",
            "1563/1563 [==============================] - 8s 5ms/step - loss: 0.2000 - accuracy: 0.9243 - val_loss: 0.2637 - val_accuracy: 0.9078\n",
            "Epoch 4/15\n",
            "1563/1563 [==============================] - 8s 5ms/step - loss: 0.1624 - accuracy: 0.9405 - val_loss: 0.2294 - val_accuracy: 0.9204\n",
            "Epoch 5/15\n",
            "1563/1563 [==============================] - 8s 5ms/step - loss: 0.1391 - accuracy: 0.9504 - val_loss: 0.2411 - val_accuracy: 0.9237\n",
            "Epoch 6/15\n",
            "1563/1563 [==============================] - 8s 5ms/step - loss: 0.1153 - accuracy: 0.9565 - val_loss: 0.2706 - val_accuracy: 0.9224\n",
            "Epoch 7/15\n",
            "1563/1563 [==============================] - 8s 5ms/step - loss: 0.0941 - accuracy: 0.9643 - val_loss: 0.3044 - val_accuracy: 0.9151\n",
            "Epoch 8/15\n",
            "1563/1563 [==============================] - 8s 5ms/step - loss: 0.0814 - accuracy: 0.9696 - val_loss: 0.3765 - val_accuracy: 0.9097\n",
            "Epoch 9/15\n",
            "1563/1563 [==============================] - 8s 5ms/step - loss: 0.0669 - accuracy: 0.9760 - val_loss: 0.3158 - val_accuracy: 0.9167\n",
            "Epoch 10/15\n",
            "1563/1563 [==============================] - 8s 5ms/step - loss: 0.0596 - accuracy: 0.9788 - val_loss: 0.3800 - val_accuracy: 0.9138\n",
            "Epoch 11/15\n",
            "1563/1563 [==============================] - 8s 5ms/step - loss: 0.0491 - accuracy: 0.9813 - val_loss: 0.3651 - val_accuracy: 0.9191\n",
            "Epoch 12/15\n",
            "1563/1563 [==============================] - 8s 5ms/step - loss: 0.0406 - accuracy: 0.9857 - val_loss: 0.4150 - val_accuracy: 0.9125\n",
            "Epoch 13/15\n",
            "1563/1563 [==============================] - 8s 5ms/step - loss: 0.0389 - accuracy: 0.9862 - val_loss: 0.4187 - val_accuracy: 0.9223\n",
            "Epoch 14/15\n",
            "1563/1563 [==============================] - 8s 5ms/step - loss: 0.0319 - accuracy: 0.9877 - val_loss: 0.4188 - val_accuracy: 0.9197\n",
            "Epoch 15/15\n",
            "1563/1563 [==============================] - 8s 5ms/step - loss: 0.0410 - accuracy: 0.9849 - val_loss: 0.3796 - val_accuracy: 0.9203\n"
          ],
          "name": "stdout"
        }
      ]
    },
    {
      "cell_type": "code",
      "metadata": {
        "colab": {
          "base_uri": "https://localhost:8080/",
          "height": 573
        },
        "id": "47_RYl_O72Bx",
        "outputId": "b223d1cb-59f4-401c-f693-4fd273ff7e95"
      },
      "source": [
        "print_loss_graph(history_model2)\n",
        "print_loss_pair_graph(history_model1, history_model2, 'model1', 'model2')"
      ],
      "execution_count": null,
      "outputs": [
        {
          "output_type": "display_data",
          "data": {
            "image/png": "[encoded data removed]",
            "text/plain": [
              "<Figure size 432x288 with 1 Axes>"
            ]
          },
          "metadata": {
            "tags": [],
            "needs_background": "light"
          }
        },
        {
          "output_type": "display_data",
          "data": {
            "image/png": "[encoded data removed]",
            "text/plain": [
              "<Figure size 432x288 with 1 Axes>"
            ]
          },
          "metadata": {
            "tags": [],
            "needs_background": "light"
          }
        }
      ]
    },
    {
      "cell_type": "code",
      "metadata": {
        "id": "YcYg4YbtbjFj"
      },
      "source": [
        "model_2.save('model2_weights.h', save_format='h5')"
      ],
      "execution_count": null,
      "outputs": []
    },
    {
      "cell_type": "markdown",
      "metadata": {
        "id": "cdIAthDWPa5x"
      },
      "source": [
        "Model 3: Average Pooling Instead of Max Pooling"
      ]
    },
    {
      "cell_type": "code",
      "metadata": {
        "id": "Jkkrm6VE9c_R"
      },
      "source": [
        "#create model\n",
        "model_3 = Sequential()\n",
        "#add model layers\n",
        "model_3.add(Conv2D(32, padding = 'same', kernel_size=3, activation='relu',input_shape=(28,28,1)))\n",
        "model_3.add(AveragePooling2D(pool_size=(2, 2)))\n",
        "model_3.add(Conv2D(64, padding = 'same', kernel_size=3, activation='relu'))\n",
        "model_3.add(AveragePooling2D(pool_size=(2, 2)))\n",
        "model_3.add(Conv2D(128, padding = 'same', kernel_size=3, activation='relu'))\n",
        "model_3.add(AveragePooling2D(pool_size=(2, 2)))\n",
        "model_3.add(Flatten())\n",
        "model_3.add(Dense(128, activation='relu'))\n",
        "model_3.add(Dense(10, activation=\"softmax\"))"
      ],
      "execution_count": null,
      "outputs": []
    },
    {
      "cell_type": "code",
      "metadata": {
        "id": "hGxmFSm1RsVz"
      },
      "source": [
        "model_3.compile(loss=tf.keras.losses.sparse_categorical_crossentropy,\n",
        "              optimizer=tf.keras.optimizers.Adam(),\n",
        "              metrics=['accuracy'])"
      ],
      "execution_count": null,
      "outputs": []
    },
    {
      "cell_type": "code",
      "metadata": {
        "colab": {
          "base_uri": "https://localhost:8080/"
        },
        "id": "7Xcm-6A-ZWPm",
        "outputId": "36c090e6-8b0f-411e-a137-c9eb7b14b6c9"
      },
      "source": [
        "history_model3 = model_3.fit(x=x_train, y=y_train,\n",
        "\tvalidation_data=(x_validation, y_validation),\n",
        "\tbatch_size=BATCH_SIZE, epochs=NUM_EPOCHS)"
      ],
      "execution_count": null,
      "outputs": [
        {
          "output_type": "stream",
          "text": [
            "Epoch 1/15\n",
            "1563/1563 [==============================] - 6s 4ms/step - loss: 0.7487 - accuracy: 0.7213 - val_loss: 0.4087 - val_accuracy: 0.8453\n",
            "Epoch 2/15\n",
            "1563/1563 [==============================] - 5s 4ms/step - loss: 0.3644 - accuracy: 0.8658 - val_loss: 0.3731 - val_accuracy: 0.8545\n",
            "Epoch 3/15\n",
            "1563/1563 [==============================] - 5s 4ms/step - loss: 0.3003 - accuracy: 0.8898 - val_loss: 0.2861 - val_accuracy: 0.8926\n",
            "Epoch 4/15\n",
            "1563/1563 [==============================] - 6s 4ms/step - loss: 0.2646 - accuracy: 0.9017 - val_loss: 0.2826 - val_accuracy: 0.8955\n",
            "Epoch 5/15\n",
            "1563/1563 [==============================] - 6s 4ms/step - loss: 0.2304 - accuracy: 0.9155 - val_loss: 0.2481 - val_accuracy: 0.9109\n",
            "Epoch 6/15\n",
            "1563/1563 [==============================] - 6s 4ms/step - loss: 0.2176 - accuracy: 0.9194 - val_loss: 0.3327 - val_accuracy: 0.8761\n",
            "Epoch 7/15\n",
            "1563/1563 [==============================] - 6s 4ms/step - loss: 0.1936 - accuracy: 0.9297 - val_loss: 0.2500 - val_accuracy: 0.9078\n",
            "Epoch 8/15\n",
            "1563/1563 [==============================] - 6s 4ms/step - loss: 0.1806 - accuracy: 0.9320 - val_loss: 0.2380 - val_accuracy: 0.9128\n",
            "Epoch 9/15\n",
            "1563/1563 [==============================] - 6s 4ms/step - loss: 0.1626 - accuracy: 0.9404 - val_loss: 0.2311 - val_accuracy: 0.9198\n",
            "Epoch 10/15\n",
            "1563/1563 [==============================] - 6s 4ms/step - loss: 0.1438 - accuracy: 0.9474 - val_loss: 0.2329 - val_accuracy: 0.9177\n",
            "Epoch 11/15\n",
            "1563/1563 [==============================] - 6s 4ms/step - loss: 0.1308 - accuracy: 0.9528 - val_loss: 0.2593 - val_accuracy: 0.9110\n",
            "Epoch 12/15\n",
            "1563/1563 [==============================] - 6s 4ms/step - loss: 0.1197 - accuracy: 0.9561 - val_loss: 0.2613 - val_accuracy: 0.9112\n",
            "Epoch 13/15\n",
            "1563/1563 [==============================] - 6s 4ms/step - loss: 0.1118 - accuracy: 0.9588 - val_loss: 0.2807 - val_accuracy: 0.9109\n",
            "Epoch 14/15\n",
            "1563/1563 [==============================] - 6s 4ms/step - loss: 0.1013 - accuracy: 0.9606 - val_loss: 0.2592 - val_accuracy: 0.9181\n",
            "Epoch 15/15\n",
            "1563/1563 [==============================] - 5s 4ms/step - loss: 0.0894 - accuracy: 0.9666 - val_loss: 0.2945 - val_accuracy: 0.9141\n"
          ],
          "name": "stdout"
        }
      ]
    },
    {
      "cell_type": "code",
      "metadata": {
        "colab": {
          "base_uri": "https://localhost:8080/",
          "height": 573
        },
        "id": "W-XWY5Q7Zl3J",
        "outputId": "2061e00c-45e6-4845-dc71-c148fde92e3e"
      },
      "source": [
        "print_loss_graph(history_model3)\n",
        "print_loss_pair_graph(history_model3, history_model1, 'model3', 'model1')"
      ],
      "execution_count": null,
      "outputs": [
        {
          "output_type": "display_data",
          "data": {
            "image/png": "[encoded data removed]",
            "text/plain": [
              "<Figure size 432x288 with 1 Axes>"
            ]
          },
          "metadata": {
            "tags": [],
            "needs_background": "light"
          }
        },
        {
          "output_type": "display_data",
          "data": {
            "image/png": "[encoded data removed]",
            "text/plain": [
              "<Figure size 432x288 with 1 Axes>"
            ]
          },
          "metadata": {
            "tags": [],
            "needs_background": "light"
          }
        }
      ]
    },
    {
      "cell_type": "code",
      "metadata": {
        "id": "dUHfa_dcb-DW"
      },
      "source": [
        "model_3.save('model3_weights.h', save_format='h5')"
      ],
      "execution_count": null,
      "outputs": []
    },
    {
      "cell_type": "markdown",
      "metadata": {
        "id": "M03tNcv4DBgr"
      },
      "source": [
        "Model 4: Bigger kernel size than model 2"
      ]
    },
    {
      "cell_type": "code",
      "metadata": {
        "id": "tZXse7Et7y2M"
      },
      "source": [
        "model_4 = Sequential()\n",
        "model_4.add(Conv2D(32, padding = 'same', kernel_size=11, activation='relu', input_shape=(28,28,1)))\n",
        "model_4.add(Conv2D(64, padding = 'same', kernel_size=11, activation='relu'))\n",
        "model_4.add(BatchNormalization())\n",
        "model_4.add(MaxPooling2D(pool_size=(2, 2)))\n",
        "model_4.add(Conv2D(128, padding = 'same', kernel_size=11, activation='relu'))\n",
        "model_4.add(BatchNormalization())\n",
        "model_4.add(MaxPooling2D(pool_size=(2, 2)))\n",
        "model_4.add(Flatten())\n",
        "model_4.add(Dense(128, activation='relu'))\n",
        "model_4.add(Dense(10, activation=\"softmax\"))"
      ],
      "execution_count": null,
      "outputs": []
    },
    {
      "cell_type": "code",
      "metadata": {
        "id": "9sZJXT6bEdes"
      },
      "source": [
        "#Optimizer batch stochastic gradient descent\n",
        "model_4.compile(loss=tf.keras.losses.sparse_categorical_crossentropy,\n",
        "              optimizer='adam',\n",
        "              metrics=['accuracy'])"
      ],
      "execution_count": null,
      "outputs": []
    },
    {
      "cell_type": "code",
      "metadata": {
        "colab": {
          "base_uri": "https://localhost:8080/"
        },
        "id": "IxIdzU_5Ef7I",
        "outputId": "3d0c78ac-994b-45ef-e5d8-2dc734ee23ba"
      },
      "source": [
        "history_model4 = model_4.fit(x=x_train, y=y_train,\n",
        "\tvalidation_data=(x_validation, y_validation),\n",
        "\tbatch_size=BATCH_SIZE, epochs=NUM_EPOCHS)"
      ],
      "execution_count": null,
      "outputs": [
        {
          "output_type": "stream",
          "text": [
            "Epoch 1/15\n",
            "1563/1563 [==============================] - 16s 10ms/step - loss: 0.7564 - accuracy: 0.7481 - val_loss: 0.3699 - val_accuracy: 0.8613\n",
            "Epoch 2/15\n",
            "1563/1563 [==============================] - 16s 10ms/step - loss: 0.3342 - accuracy: 0.8741 - val_loss: 0.3179 - val_accuracy: 0.8785\n",
            "Epoch 3/15\n",
            "1563/1563 [==============================] - 16s 10ms/step - loss: 0.2753 - accuracy: 0.8978 - val_loss: 0.2929 - val_accuracy: 0.8940\n",
            "Epoch 4/15\n",
            "1563/1563 [==============================] - 16s 10ms/step - loss: 0.2411 - accuracy: 0.9105 - val_loss: 0.2764 - val_accuracy: 0.8970\n",
            "Epoch 5/15\n",
            "1563/1563 [==============================] - 16s 10ms/step - loss: 0.2093 - accuracy: 0.9217 - val_loss: 0.2844 - val_accuracy: 0.8980\n",
            "Epoch 6/15\n",
            "1563/1563 [==============================] - 16s 10ms/step - loss: 0.1813 - accuracy: 0.9324 - val_loss: 0.3019 - val_accuracy: 0.8917\n",
            "Epoch 7/15\n",
            "1563/1563 [==============================] - 16s 10ms/step - loss: 0.1611 - accuracy: 0.9397 - val_loss: 0.2579 - val_accuracy: 0.9076\n",
            "Epoch 8/15\n",
            "1563/1563 [==============================] - 16s 10ms/step - loss: 0.1274 - accuracy: 0.9521 - val_loss: 0.2881 - val_accuracy: 0.9064\n",
            "Epoch 9/15\n",
            "1563/1563 [==============================] - 16s 10ms/step - loss: 0.1142 - accuracy: 0.9579 - val_loss: 0.2810 - val_accuracy: 0.9133\n",
            "Epoch 10/15\n",
            "1563/1563 [==============================] - 16s 10ms/step - loss: 0.0914 - accuracy: 0.9667 - val_loss: 0.3332 - val_accuracy: 0.9056\n",
            "Epoch 11/15\n",
            "1563/1563 [==============================] - 16s 10ms/step - loss: 0.0804 - accuracy: 0.9700 - val_loss: 0.3551 - val_accuracy: 0.9087\n",
            "Epoch 12/15\n",
            "1563/1563 [==============================] - 16s 10ms/step - loss: 0.0684 - accuracy: 0.9750 - val_loss: 0.3351 - val_accuracy: 0.9077\n",
            "Epoch 13/15\n",
            "1563/1563 [==============================] - 16s 10ms/step - loss: 0.0599 - accuracy: 0.9770 - val_loss: 0.4038 - val_accuracy: 0.9082\n",
            "Epoch 14/15\n",
            "1563/1563 [==============================] - 16s 10ms/step - loss: 0.0521 - accuracy: 0.9818 - val_loss: 0.4651 - val_accuracy: 0.9057\n",
            "Epoch 15/15\n",
            "1563/1563 [==============================] - 16s 10ms/step - loss: 0.0486 - accuracy: 0.9826 - val_loss: 0.4405 - val_accuracy: 0.9109\n"
          ],
          "name": "stdout"
        }
      ]
    },
    {
      "cell_type": "code",
      "metadata": {
        "colab": {
          "base_uri": "https://localhost:8080/",
          "height": 573
        },
        "id": "k19GpVefEjlD",
        "outputId": "35b12f9a-045e-47b9-ccdc-a558e1035ec3"
      },
      "source": [
        "print_loss_graph(history_model4)\n",
        "print_loss_pair_graph(history_model4, history_model2, 'model4', 'model2')"
      ],
      "execution_count": null,
      "outputs": [
        {
          "output_type": "display_data",
          "data": {
            "image/png": "[encoded data removed]",
            "text/plain": [
              "<Figure size 432x288 with 1 Axes>"
            ]
          },
          "metadata": {
            "tags": [],
            "needs_background": "light"
          }
        },
        {
          "output_type": "display_data",
          "data": {
            "image/png": "[encoded data removed]",
            "text/plain": [
              "<Figure size 432x288 with 1 Axes>"
            ]
          },
          "metadata": {
            "tags": [],
            "needs_background": "light"
          }
        }
      ]
    },
    {
      "cell_type": "code",
      "metadata": {
        "id": "0Ex76zDZfyFu"
      },
      "source": [
        "model_4.save('model4_weights.h', save_format='h5')"
      ],
      "execution_count": null,
      "outputs": []
    },
    {
      "cell_type": "markdown",
      "metadata": {
        "id": "dCiLM_hf9jR3"
      },
      "source": [
        "Model 5: Use different weight initialization -  \n",
        "Instead of normalized xavier weight initialization (glorot uniform) use kaiming initialization - \n",
        "Model 2, but with different weight initialization"
      ]
    },
    {
      "cell_type": "code",
      "metadata": {
        "id": "zxIXyDTx-FW9"
      },
      "source": [
        "initializer = tf.keras.initializers.HeNormal()"
      ],
      "execution_count": null,
      "outputs": []
    },
    {
      "cell_type": "code",
      "metadata": {
        "id": "3UCyZCbxA9rl"
      },
      "source": [
        "model_5 = Sequential()\n",
        "model_5.add(Conv2D(32, padding = 'same', kernel_size=3, activation='relu', input_shape=(28,28,1), kernel_initializer=initializer))\n",
        "model_5.add(Conv2D(64, padding = 'same', kernel_size=3, activation='relu', kernel_initializer=initializer))\n",
        "model_5.add(BatchNormalization())\n",
        "model_5.add(MaxPooling2D(pool_size=(2, 2)))\n",
        "model_5.add(Conv2D(128, padding = 'same', kernel_size=3, activation='relu', kernel_initializer=initializer))\n",
        "model_5.add(BatchNormalization())\n",
        "model_5.add(MaxPooling2D(pool_size=(2, 2)))\n",
        "model_5.add(Flatten()\n",
        "model_5.add(Dense(128, activation='relu', kernel_initializer=initializer))\n",
        "model_5.add(Dense(10, activation=\"softmax\"))"
      ],
      "execution_count": null,
      "outputs": []
    },
    {
      "cell_type": "code",
      "metadata": {
        "id": "oBHNSH9qBYvy"
      },
      "source": [
        "model_5.compile(loss=tf.keras.losses.sparse_categorical_crossentropy,\n",
        "              optimizer='adam',\n",
        "              metrics=['accuracy'])"
      ],
      "execution_count": null,
      "outputs": []
    },
    {
      "cell_type": "code",
      "metadata": {
        "colab": {
          "base_uri": "https://localhost:8080/"
        },
        "id": "w4cqjbL1BaMH",
        "outputId": "e0c6a6ee-2aa2-4494-89c1-336c7d24d214"
      },
      "source": [
        "history_model5 = model_5.fit(x=x_train, y=y_train,\n",
        "\tvalidation_data=(x_validation, y_validation),\n",
        "\tbatch_size=BATCH_SIZE, epochs=NUM_EPOCHS)"
      ],
      "execution_count": null,
      "outputs": [
        {
          "output_type": "stream",
          "text": [
            "Epoch 1/15\n",
            "1563/1563 [==============================] - 9s 5ms/step - loss: 0.5857 - accuracy: 0.8233 - val_loss: 0.3513 - val_accuracy: 0.8761\n",
            "Epoch 2/15\n",
            "1563/1563 [==============================] - 8s 5ms/step - loss: 0.2478 - accuracy: 0.9076 - val_loss: 0.2504 - val_accuracy: 0.9098\n",
            "Epoch 3/15\n",
            "1563/1563 [==============================] - 8s 5ms/step - loss: 0.1985 - accuracy: 0.9262 - val_loss: 0.2465 - val_accuracy: 0.9133\n",
            "Epoch 4/15\n",
            "1563/1563 [==============================] - 8s 5ms/step - loss: 0.1620 - accuracy: 0.9366 - val_loss: 0.2483 - val_accuracy: 0.9167\n",
            "Epoch 5/15\n",
            "1563/1563 [==============================] - 8s 5ms/step - loss: 0.1286 - accuracy: 0.9515 - val_loss: 0.2335 - val_accuracy: 0.9234\n",
            "Epoch 6/15\n",
            "1563/1563 [==============================] - 8s 5ms/step - loss: 0.1025 - accuracy: 0.9619 - val_loss: 0.2557 - val_accuracy: 0.9192\n",
            "Epoch 7/15\n",
            "1563/1563 [==============================] - 8s 5ms/step - loss: 0.0870 - accuracy: 0.9676 - val_loss: 0.2827 - val_accuracy: 0.9217\n",
            "Epoch 8/15\n",
            "1563/1563 [==============================] - 8s 5ms/step - loss: 0.0646 - accuracy: 0.9768 - val_loss: 0.2899 - val_accuracy: 0.9176\n",
            "Epoch 9/15\n",
            "1563/1563 [==============================] - 8s 5ms/step - loss: 0.0600 - accuracy: 0.9786 - val_loss: 0.3323 - val_accuracy: 0.9216\n",
            "Epoch 10/15\n",
            "1563/1563 [==============================] - 8s 5ms/step - loss: 0.0467 - accuracy: 0.9833 - val_loss: 0.3564 - val_accuracy: 0.9234\n",
            "Epoch 11/15\n",
            "1563/1563 [==============================] - 8s 5ms/step - loss: 0.0483 - accuracy: 0.9830 - val_loss: 0.3939 - val_accuracy: 0.9195\n",
            "Epoch 12/15\n",
            "1563/1563 [==============================] - 8s 5ms/step - loss: 0.0427 - accuracy: 0.9856 - val_loss: 0.3932 - val_accuracy: 0.9165\n",
            "Epoch 13/15\n",
            "1563/1563 [==============================] - 8s 5ms/step - loss: 0.0326 - accuracy: 0.9885 - val_loss: 0.4548 - val_accuracy: 0.9173\n",
            "Epoch 14/15\n",
            "1563/1563 [==============================] - 8s 5ms/step - loss: 0.0295 - accuracy: 0.9891 - val_loss: 0.4678 - val_accuracy: 0.9194\n",
            "Epoch 15/15\n",
            "1563/1563 [==============================] - 8s 5ms/step - loss: 0.0292 - accuracy: 0.9900 - val_loss: 0.4929 - val_accuracy: 0.9156\n"
          ],
          "name": "stdout"
        }
      ]
    },
    {
      "cell_type": "code",
      "metadata": {
        "colab": {
          "base_uri": "https://localhost:8080/",
          "height": 573
        },
        "id": "3jg7kprxBdYf",
        "outputId": "c4ab5c0f-10d5-48cf-e010-6fd3f5a7cc21"
      },
      "source": [
        "print_loss_graph(history_model5)\n",
        "print_loss_pair_graph(history_model5, history_model2, 'model5', 'model2')"
      ],
      "execution_count": null,
      "outputs": [
        {
          "output_type": "display_data",
          "data": {
            "image/png": "[encoded data removed]",
            "text/plain": [
              "<Figure size 432x288 with 1 Axes>"
            ]
          },
          "metadata": {
            "tags": [],
            "needs_background": "light"
          }
        },
        {
          "output_type": "display_data",
          "data": {
            "image/png": "[encoded data removed]",
            "text/plain": [
              "<Figure size 432x288 with 1 Axes>"
            ]
          },
          "metadata": {
            "tags": [],
            "needs_background": "light"
          }
        }
      ]
    },
    {
      "cell_type": "code",
      "metadata": {
        "id": "eP6ouO0BhRBJ"
      },
      "source": [
        "model_5.save('model5_weights.h', save_format='h5')"
      ],
      "execution_count": null,
      "outputs": []
    },
    {
      "cell_type": "markdown",
      "metadata": {
        "id": "krq32xvvoR39"
      },
      "source": [
        "Running Best and Second Best Model on the Test Set\n"
      ]
    },
    {
      "cell_type": "code",
      "metadata": {
        "colab": {
          "base_uri": "https://localhost:8080/"
        },
        "id": "JVMnTFmYoRJF",
        "outputId": "4c7ec70c-e955-4624-91e4-71439ebe956a"
      },
      "source": [
        "#create model\n",
        "model2_best = Sequential()\n",
        "#add model layers\n",
        "model2_best.add(Conv2D(32, padding = 'same', kernel_size=3, activation='relu', input_shape=(28,28,1)))\n",
        "model2_best.add(Conv2D(64, padding = 'same', kernel_size=3, activation='relu'))\n",
        "model2_best.add(BatchNormalization())\n",
        "model2_best.add(MaxPooling2D(pool_size=(2, 2)))\n",
        "model2_best.add(Conv2D(128, padding = 'same', kernel_size=3, activation='relu'))\n",
        "model2_best.add(BatchNormalization())\n",
        "model2_best.add(MaxPooling2D(pool_size=(2, 2)))\n",
        "model2_best.add(Flatten())\n",
        "model2_best.add(Dense(128, activation='relu'))\n",
        "model2_best.add(Dense(10, activation=\"softmax\"))\n",
        "\n",
        "model2_best.compile(loss=tf.keras.losses.sparse_categorical_crossentropy,\n",
        "              optimizer=tf.keras.optimizers.Adam(),\n",
        "              metrics=['accuracy'])\n",
        "\n",
        "model2_best_history = model2_best.fit(x=x_train_original, y=y_train_original,\tbatch_size=BATCH_SIZE, epochs=4, validation_split=0)\n"
      ],
      "execution_count": null,
      "outputs": [
        {
          "output_type": "stream",
          "text": [
            "Epoch 1/4\n",
            "1875/1875 [==============================] - 41s 4ms/step - loss: 0.5693 - accuracy: 0.8233\n",
            "Epoch 2/4\n",
            "1875/1875 [==============================] - 8s 4ms/step - loss: 0.2280 - accuracy: 0.9160\n",
            "Epoch 3/4\n",
            "1875/1875 [==============================] - 8s 4ms/step - loss: 0.1896 - accuracy: 0.9291\n",
            "Epoch 4/4\n",
            "1875/1875 [==============================] - 8s 4ms/step - loss: 0.1661 - accuracy: 0.9389\n"
          ],
          "name": "stdout"
        }
      ]
    },
    {
      "cell_type": "code",
      "metadata": {
        "id": "gApqnU4rm5Ts"
      },
      "source": [
        ""
      ],
      "execution_count": null,
      "outputs": []
    },
    {
      "cell_type": "code",
      "metadata": {
        "colab": {
          "base_uri": "https://localhost:8080/"
        },
        "id": "FGx4KE5BzeKL",
        "outputId": "a30671c8-11b2-4673-fc80-2fb8a70392e4"
      },
      "source": [
        "score = model2_best.evaluate(x_test, y_test)\n",
        "print(f'Test loss: {score[0]} / Test accuracy: {score[1]}')\n",
        "print(model2_best.predict(x_test))"
      ],
      "execution_count": null,
      "outputs": [
        {
          "output_type": "stream",
          "text": [
            "313/313 [==============================] - 1s 3ms/step - loss: 0.2448 - accuracy: 0.9172\n",
            "Test loss: 0.244821697473526 / Test accuracy: 0.9172000288963318\n",
            "[[1.0873823e-08 3.9154628e-08 3.2212708e-11 ... 9.7243655e-03\n",
            "  2.3335955e-09 9.9009573e-01]\n",
            " [2.7660017e-05 2.1668694e-14 9.9993503e-01 ... 6.9976404e-20\n",
            "  1.6632229e-10 1.9991638e-24]\n",
            " [4.0973244e-14 1.0000000e+00 4.0012747e-13 ... 1.0397376e-20\n",
            "  1.5922210e-15 1.5888900e-15]\n",
            " ...\n",
            " [1.7976637e-13 6.3851639e-15 3.0962976e-15 ... 4.4123356e-14\n",
            "  1.0000000e+00 4.4823855e-17]\n",
            " [4.9103576e-15 1.0000000e+00 2.0519951e-12 ... 5.5372189e-19\n",
            "  2.2431667e-14 2.6451613e-16]\n",
            " [1.7615335e-07 1.7120194e-11 7.9217122e-09 ... 1.8031441e-01\n",
            "  3.7977870e-06 4.2663178e-05]]\n"
          ],
          "name": "stdout"
        }
      ]
    },
    {
      "cell_type": "code",
      "metadata": {
        "id": "AkMadMn4bM_s"
      },
      "source": [
        "model2_best.save('model2_best_weights.h', save_format='h5')"
      ],
      "execution_count": null,
      "outputs": []
    },
    {
      "cell_type": "code",
      "metadata": {
        "id": "V2ZoDLcQjPfD",
        "colab": {
          "base_uri": "https://localhost:8080/"
        },
        "outputId": "7498233e-5ffb-4dea-cfd1-da33192ca3aa"
      },
      "source": [
        "model3_best = Sequential()\n",
        "model3_best.add(Conv2D(32, padding = 'same', kernel_size=3, activation='relu',input_shape=(28,28,1)))\n",
        "model3_best.add(AveragePooling2D(pool_size=(2, 2)))\n",
        "model3_best.add(Conv2D(64, padding = 'same', kernel_size=3, activation='relu'))\n",
        "model3_best.add(AveragePooling2D(pool_size=(2, 2)))\n",
        "model3_best.add(Conv2D(128, padding = 'same', kernel_size=3, activation='relu'))\n",
        "model3_best.add(AveragePooling2D(pool_size=(2, 2)))\n",
        "model3_best.add(Flatten())\n",
        "model3_best.add(Dense(128, activation='relu'))\n",
        "model3_best.add(Dense(10, activation=\"softmax\"))\n",
        "\n",
        "model3_best.compile(loss=tf.keras.losses.sparse_categorical_crossentropy,\n",
        "              optimizer='adam',\n",
        "              metrics=['accuracy'])\n",
        "\n",
        "model3_history = model3_best.fit(x=x_train_original, y=y_train_original,\tbatch_size=BATCH_SIZE, epochs=9, validation_split=0)\n",
        "model3_best.save('model3_best_weights.h', save_format='h5')"
      ],
      "execution_count": null,
      "outputs": [
        {
          "output_type": "stream",
          "text": [
            "Epoch 1/9\n",
            "1875/1875 [==============================] - 6s 3ms/step - loss: 0.7130 - accuracy: 0.7375\n",
            "Epoch 2/9\n",
            "1875/1875 [==============================] - 5s 3ms/step - loss: 0.3529 - accuracy: 0.8704\n",
            "Epoch 3/9\n",
            "1875/1875 [==============================] - 5s 3ms/step - loss: 0.2950 - accuracy: 0.8916\n",
            "Epoch 4/9\n",
            "1875/1875 [==============================] - 5s 3ms/step - loss: 0.2548 - accuracy: 0.9052\n",
            "Epoch 5/9\n",
            "1875/1875 [==============================] - 5s 3ms/step - loss: 0.2280 - accuracy: 0.9151\n",
            "Epoch 6/9\n",
            "1875/1875 [==============================] - 5s 3ms/step - loss: 0.2050 - accuracy: 0.9238\n",
            "Epoch 7/9\n",
            "1875/1875 [==============================] - 5s 3ms/step - loss: 0.1854 - accuracy: 0.9312\n",
            "Epoch 8/9\n",
            "1875/1875 [==============================] - 5s 3ms/step - loss: 0.1670 - accuracy: 0.9378\n",
            "Epoch 9/9\n",
            "1875/1875 [==============================] - 5s 3ms/step - loss: 0.1617 - accuracy: 0.9407\n"
          ],
          "name": "stdout"
        }
      ]
    },
    {
      "cell_type": "code",
      "metadata": {
        "id": "w39FOQO0jPsR",
        "colab": {
          "base_uri": "https://localhost:8080/"
        },
        "outputId": "0b0c9042-bebb-4d90-9c2e-e7cfcf66df84"
      },
      "source": [
        "score = model3_best.evaluate(x_test, y_test)\n",
        "print(f'Test loss: {score[0]} / Test accuracy: {score[1]}')\n",
        "print(model3_best.predict(x_test))"
      ],
      "execution_count": null,
      "outputs": [
        {
          "output_type": "stream",
          "text": [
            "313/313 [==============================] - 1s 2ms/step - loss: 0.2401 - accuracy: 0.9162\n",
            "Test loss: 0.24008744955062866 / Test accuracy: 0.9161999821662903\n",
            "[[3.0428648e-08 3.3499828e-07 1.2655108e-09 ... 1.9701546e-04\n",
            "  1.5959217e-09 9.9975890e-01]\n",
            " [6.2345974e-03 5.8035954e-10 9.9214101e-01 ... 2.9943416e-11\n",
            "  1.8314855e-05 7.7633482e-09]\n",
            " [1.3117511e-10 1.0000000e+00 1.2981247e-09 ... 3.7289940e-24\n",
            "  2.3549912e-11 3.5832740e-20]\n",
            " ...\n",
            " [1.0181583e-12 2.6790558e-18 1.8167156e-12 ... 4.4704345e-16\n",
            "  1.0000000e+00 8.8258067e-17]\n",
            " [5.0291046e-08 9.9999833e-01 8.6094968e-07 ... 4.0070990e-15\n",
            "  1.6870077e-07 5.3890646e-12]\n",
            " [2.3081269e-05 1.1942218e-09 1.8757260e-07 ... 1.2696855e-02\n",
            "  1.1884534e-03 1.7891649e-05]]\n"
          ],
          "name": "stdout"
        }
      ]
    },
    {
      "cell_type": "markdown",
      "metadata": {
        "id": "USTbkL7TflE9"
      },
      "source": [
        "Choice Task: Create and apply a function to decrease the learning rate at a 1/2 of the value every 5 epochs"
      ]
    },
    {
      "cell_type": "code",
      "metadata": {
        "id": "9s7XbDediUWR"
      },
      "source": [
        "from keras.callbacks import LearningRateScheduler\n",
        "import math\n",
        " \n",
        "def step_decay(epoch):\n",
        "\tinitial_lrate = 0.1\n",
        "\tdrop = 0.5\n",
        "\tepochs_drop = 5\n",
        "\tlrate = initial_lrate * math.pow(drop, math.floor((1+epoch)/epochs_drop))\n",
        "\treturn lrate"
      ],
      "execution_count": null,
      "outputs": []
    },
    {
      "cell_type": "code",
      "metadata": {
        "id": "76XF4FZ6ed4f"
      },
      "source": [
        "#create model\n",
        "model_1 = Sequential([\n",
        "  (Conv2D(32, padding = 'same', kernel_size=3, activation=\"relu\", input_shape=(28,28,1))),\n",
        "  (MaxPooling2D(pool_size=(2, 2))),\n",
        "  (Conv2D(64, padding = 'same', kernel_size=3, activation=\"relu\")),\n",
        "  (MaxPooling2D(pool_size=(2, 2))),\n",
        "  (Conv2D(128, padding = 'same', kernel_size=3, activation=\"relu\")),\n",
        "  (MaxPooling2D(pool_size=(2, 2))),\n",
        "  (Flatten()),\n",
        "  (Dense(128, activation='relu')),\n",
        "  (Dense(10, activation=\"softmax\"))]\n",
        ")"
      ],
      "execution_count": null,
      "outputs": []
    },
    {
      "cell_type": "code",
      "metadata": {
        "id": "xaTBlTkQeert"
      },
      "source": [
        "model_1.compile(loss=tf.keras.losses.sparse_categorical_crossentropy,\n",
        "              optimizer=tf.keras.optimizers.SGD(),\n",
        "              metrics=['accuracy'])"
      ],
      "execution_count": null,
      "outputs": []
    },
    {
      "cell_type": "code",
      "metadata": {
        "id": "e1cFLM_yelRe"
      },
      "source": [
        "lrate = LearningRateScheduler(step_decay)\n",
        "callbacks_list = [lrate]"
      ],
      "execution_count": null,
      "outputs": []
    },
    {
      "cell_type": "code",
      "metadata": {
        "id": "LwGUjTgpiiF1"
      },
      "source": [
        "model_1.fit(x=x_train, y=y_train,\n",
        "\tvalidation_data=(x_validation, y_validation),\n",
        "\tbatch_size=BATCH_SIZE, epochs=NUM_EPOCHS, callbacks=callbacks_list)"
      ],
      "execution_count": null,
      "outputs": []
    },
    {
      "cell_type": "markdown",
      "metadata": {
        "id": "t3csYy8Kfwgg"
      },
      "source": [
        "Choice Task: Perform data augmentation techniques (at least 3)"
      ]
    },
    {
      "cell_type": "code",
      "metadata": {
        "id": "z2f8wdVU-YOw"
      },
      "source": [
        "from tensorflow.keras.preprocessing.image import ImageDataGenerator"
      ],
      "execution_count": null,
      "outputs": []
    },
    {
      "cell_type": "code",
      "metadata": {
        "id": "YlKBDhch8aDv"
      },
      "source": [
        "aug = ImageDataGenerator(\n",
        "    rotation_range=20, \n",
        "    zoom_range=0.15,\n",
        "\t  width_shift_range=0.2, \n",
        "    height_shift_range=0.2, \n",
        "\t  horizontal_flip=True, \n",
        "    fill_mode=\"nearest\")"
      ],
      "execution_count": null,
      "outputs": []
    },
    {
      "cell_type": "code",
      "metadata": {
        "id": "xeFBakMNkGEm"
      },
      "source": [
        "#create model\n",
        "model_1 = Sequential([\n",
        "  (Conv2D(32, padding = 'same', kernel_size=3, activation=\"relu\", input_shape=(28,28,1))),\n",
        "  (MaxPooling2D(pool_size=(2, 2))),\n",
        "  (Conv2D(64, padding = 'same', kernel_size=3, activation=\"relu\")),\n",
        "  (MaxPooling2D(pool_size=(2, 2))),\n",
        "  (Conv2D(128, padding = 'same', kernel_size=3, activation=\"relu\")),\n",
        "  (MaxPooling2D(pool_size=(2, 2))),\n",
        "  (Flatten()),\n",
        "  (Dense(128, activation='relu')),\n",
        "  (Dense(10, activation=\"softmax\"))]\n",
        ")"
      ],
      "execution_count": null,
      "outputs": []
    },
    {
      "cell_type": "code",
      "metadata": {
        "id": "iKm3zSkykGgF"
      },
      "source": [
        "model_1.compile(loss=tf.keras.losses.sparse_categorical_crossentropy,\n",
        "              optimizer=tf.keras.optimizers.Adam(),\n",
        "              metrics=['accuracy'])"
      ],
      "execution_count": null,
      "outputs": []
    },
    {
      "cell_type": "code",
      "metadata": {
        "id": "9U4_IpvZ_EL7"
      },
      "source": [
        "history_model1_augmented = model_1.fit_generator(aug.flow(x_train, y_train, batch_size=BATCH_SIZE),\n",
        "\tvalidation_data=(x_validation, y_validation), steps_per_epoch=len(x_train) // BATCH_SIZE,\n",
        "\tepochs=NUM_EPOCHS)"
      ],
      "execution_count": null,
      "outputs": []
    },
    {
      "cell_type": "code",
      "metadata": {
        "id": "lWs4ViUGkS3C"
      },
      "source": [
        "validation_loss, validation_acc = model_1.evaluate(x_validation, y_validation, verbose=0)\n",
        "print('Validation loss model 1 with data augmentation:', validation_loss)\n",
        "print('Validation accuracy model 1 with data augmentation:', validation_acc)"
      ],
      "execution_count": null,
      "outputs": []
    },
    {
      "cell_type": "markdown",
      "metadata": {
        "id": "MN0elBzdf3JJ"
      },
      "source": [
        "Choice Task: Provide and explain a confusion matrix for the results on the test set of one of the models"
      ]
    },
    {
      "cell_type": "code",
      "metadata": {
        "id": "ycojCflfaSEq"
      },
      "source": [
        "from sklearn.metrics import classification_report, confusion_matrix"
      ],
      "execution_count": null,
      "outputs": []
    },
    {
      "cell_type": "code",
      "metadata": {
        "id": "ZdP2m-nRYRHt"
      },
      "source": [
        "predictions = model2_best.predict(x_test)"
      ],
      "execution_count": null,
      "outputs": []
    },
    {
      "cell_type": "code",
      "metadata": {
        "id": "5kGxlw90mGL6"
      },
      "source": [
        "predictions_test = []\n",
        "\n",
        "for i in range(0, len(y_test)): \n",
        "   predictions_test.append(predictions[i].argmax())"
      ],
      "execution_count": null,
      "outputs": []
    },
    {
      "cell_type": "code",
      "metadata": {
        "id": "PFJaK1Mmn9T2"
      },
      "source": [
        "from mlxtend.evaluate import confusion_matrix\n",
        "\n",
        "\n",
        "cm = confusion_matrix(y_target=y_test, \n",
        "                      y_predicted=predictions_test, \n",
        "                      binary=False)\n",
        "cm"
      ],
      "execution_count": null,
      "outputs": []
    },
    {
      "cell_type": "code",
      "metadata": {
        "id": "9ya0hTOloCSe"
      },
      "source": [
        "import matplotlib.pyplot as plt\n",
        "from mlxtend.evaluate import confusion_matrix\n",
        "from mlxtend.plotting import plot_confusion_matrix\n",
        "\n",
        "fig, ax = plot_confusion_matrix(conf_mat=cm)\n",
        "plt.xticks(np.arange(0,10,1))\n",
        "plt.yticks(np.arange(0,10,1))\n",
        "plt.show()"
      ],
      "execution_count": null,
      "outputs": []
    },
    {
      "cell_type": "code",
      "metadata": {
        "id": "ZtuuJ4fRmIbD"
      },
      "source": [
        "cm = confusion_matrix(y_target=y_test, \n",
        "                      y_predicted=predictions_test, \n",
        "                      binary=True,positive_label=1)\n",
        "cm"
      ],
      "execution_count": null,
      "outputs": []
    },
    {
      "cell_type": "code",
      "metadata": {
        "id": "RWmvjxcxpxWs"
      },
      "source": [
        "fig, ax = plot_confusion_matrix(conf_mat=cm)\n",
        "plt.show()"
      ],
      "execution_count": null,
      "outputs": []
    }
  ]
}